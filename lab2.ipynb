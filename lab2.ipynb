{
 "cells": [
  {
   "cell_type": "code",
   "execution_count": 1,
   "id": "54e95981-ef56-4775-8abc-c55b2226f605",
   "metadata": {},
   "outputs": [],
   "source": [
    "import numpy as np"
   ]
  },
  {
   "cell_type": "code",
   "execution_count": 3,
   "id": "e5f645fb-9912-4e56-bd13-4c3e3fce6d5c",
   "metadata": {},
   "outputs": [],
   "source": [
    "# Create two graphs G2 = (V2,E2) and G1 = (V1,E1)\n",
    "V1 = (\"a\",\"b\",\"c\",\"d\")\n",
    "V2 = (\"a\",\"b\",\"c\",\"d\",\"e\",\"f\")\n",
    "E1 = ({\"a\",\"b\"},{\"c\",\"d\"},{\"d\",\"a\"})\n",
    "E2 = ({\"a\",\"b\"},{\"c\",\"d\"},{\"a\",\"d\"},{\"a\",\"e\"})\n",
    "\n",
    "# Create the graphs\n",
    "G1 = (V1, E1)\n",
    "G2 = (V2, E2)"
   ]
  },
  {
   "cell_type": "code",
   "execution_count": 5,
   "id": "a4518b07-9cd1-4720-b88d-dc67714a7c07",
   "metadata": {},
   "outputs": [],
   "source": [
    "# Exercise 1\n",
    "# Create a function which outputs the Adjacency Matrix of a Graph. The output should be\n",
    "# a numpy matrix (so at the start use import numpy as np).\n",
    "def outputAdjacencyMatrix(V, E):\n",
    "    # Create an empty matrix\n",
    "    m = np.zeros((len(V), len(V)))\n",
    "    # Fill the matrix with 1s where there is an edge\n",
    "    for e in E:\n",
    "        # Find the index of the vertices in the edge\n",
    "        i = V.index(list(e)[0])\n",
    "        j = V.index(list(e)[1])\n",
    "        # Fill the matrix with 1s\n",
    "        m[i][j] = 1\n",
    "        m[j][i] = 1\n",
    "    # Return the matrix\n",
    "    return np.matrix(m)"
   ]
  },
  {
   "cell_type": "code",
   "execution_count": 7,
   "id": "ea4164cc-8bc4-4af6-9fcf-09be7b141860",
   "metadata": {},
   "outputs": [
    {
     "name": "stdout",
     "output_type": "stream",
     "text": [
      "[[0. 1. 0. 1. 1. 0.]\n",
      " [1. 0. 0. 0. 0. 0.]\n",
      " [0. 0. 0. 1. 0. 0.]\n",
      " [1. 0. 1. 0. 0. 0.]\n",
      " [1. 0. 0. 0. 0. 0.]\n",
      " [0. 0. 0. 0. 0. 0.]]\n"
     ]
    }
   ],
   "source": [
    "# Test the function outputAdjacencyMatrix\n",
    "print(outputAdjacencyMatrix(V2, E2))"
   ]
  },
  {
   "cell_type": "code",
   "execution_count": 9,
   "id": "4d33fd82-bd3a-444e-a8ab-1be61d140897",
   "metadata": {},
   "outputs": [],
   "source": [
    "# Exercise 2\n",
    "# Create a function which takes a list of vertices and an adjacency matrix, and outputs a\n",
    "# list of edges.\n",
    "def outputListOfEdges(V, M):\n",
    "    E = []\n",
    "    for i in range(len(M)):\n",
    "        for j in range(i, len(M)):\n",
    "            # Check if the element at position [i,j] equals 1\n",
    "            if M[i,j] == 1:\n",
    "                E.append((V[i], V[j]))\n",
    "    return E"
   ]
  },
  {
   "cell_type": "code",
   "execution_count": 11,
   "id": "6b7b2a45-14f2-491a-88a1-875d15ced9c8",
   "metadata": {},
   "outputs": [
    {
     "name": "stdout",
     "output_type": "stream",
     "text": [
      "[('a', 'b'), ('a', 'd'), ('a', 'e'), ('c', 'd')]\n"
     ]
    }
   ],
   "source": [
    "# Test the function outputListOfEdges\n",
    "print(outputListOfEdges(V2, outputAdjacencyMatrix(V2, E2)))"
   ]
  },
  {
   "cell_type": "code",
   "execution_count": 13,
   "id": "59c2b9c0-9a81-42ff-92fc-4bba6bc1b36d",
   "metadata": {},
   "outputs": [],
   "source": [
    "# Exercise 3\n",
    "# Create a python function called isSubGraph with inputs “super” and “sub”, where\n",
    "# “super” and “sub” are graphs.\n",
    "def isSubGraph(super, sub):\n",
    "    # Extract vertices and edges from both graphs\n",
    "    super_vertices, super_edges = super\n",
    "    sub_vertices, sub_edges = sub\n",
    "    \n",
    "    # Check if all vertices in the subgraph are in the supergraph\n",
    "    for vertex in sub_vertices:\n",
    "        if vertex not in super_vertices:\n",
    "            return False\n",
    "    \n",
    "    # Check if all edges in the subgraph are in the supergraph\n",
    "    for edge in sub_edges:\n",
    "        if edge not in super_edges:\n",
    "            return False\n",
    "    \n",
    "    # If all checks pass, it is a subgraph\n",
    "    return True"
   ]
  },
  {
   "cell_type": "code",
   "execution_count": 15,
   "id": "936b1b5f-22dd-4ead-825d-cf7015f7f8e6",
   "metadata": {},
   "outputs": [
    {
     "name": "stdout",
     "output_type": "stream",
     "text": [
      "True\n",
      "False\n",
      "True\n"
     ]
    }
   ],
   "source": [
    "# Test the function isSubGraph\n",
    "print(isSubGraph(G2, G1))\n",
    "print(isSubGraph(G1, G2))\n",
    "print(isSubGraph(G2, G2))"
   ]
  }
 ],
 "metadata": {
  "kernelspec": {
   "display_name": "Python [conda env:base] *",
   "language": "python",
   "name": "conda-base-py"
  },
  "language_info": {
   "codemirror_mode": {
    "name": "ipython",
    "version": 3
   },
   "file_extension": ".py",
   "mimetype": "text/x-python",
   "name": "python",
   "nbconvert_exporter": "python",
   "pygments_lexer": "ipython3",
   "version": "3.12.7"
  }
 },
 "nbformat": 4,
 "nbformat_minor": 5
}
